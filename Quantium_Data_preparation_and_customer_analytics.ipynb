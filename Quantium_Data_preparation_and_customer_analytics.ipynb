{
  "nbformat": 4,
  "nbformat_minor": 0,
  "metadata": {
    "colab": {
      "private_outputs": true,
      "provenance": []
    },
    "kernelspec": {
      "name": "python3",
      "display_name": "Python 3"
    },
    "language_info": {
      "name": "python"
    }
  },
  "cells": [
    {
      "cell_type": "code",
      "execution_count": null,
      "metadata": {
        "id": "NkTGkjI9AA4U"
      },
      "outputs": [],
      "source": [
        "import pandas as pd\n",
        "import numpy as np\n",
        "import matplotlib.pyplot as plt\n",
        "import seaborn as sns"
      ]
    },
    {
      "cell_type": "code",
      "source": [
        "purchase_data = pd.read_csv('/content/QVI_purchase_behaviour.csv')"
      ],
      "metadata": {
        "id": "kyeiTWUpAxpp"
      },
      "execution_count": null,
      "outputs": []
    },
    {
      "cell_type": "code",
      "source": [
        "transaction_data = pd.read_excel('/content/QVI_transaction_data.xlsx')"
      ],
      "metadata": {
        "id": "eIXuAjMLFClU"
      },
      "execution_count": null,
      "outputs": []
    },
    {
      "cell_type": "code",
      "source": [
        "purchase_data.head()"
      ],
      "metadata": {
        "id": "RDD_bv-fFH9W"
      },
      "execution_count": null,
      "outputs": []
    },
    {
      "cell_type": "code",
      "source": [
        "purchase_data.shape"
      ],
      "metadata": {
        "id": "bUfu2VVBXX2E"
      },
      "execution_count": null,
      "outputs": []
    },
    {
      "cell_type": "code",
      "source": [
        "purchase_data.columns"
      ],
      "metadata": {
        "id": "6w_jukecX6cN"
      },
      "execution_count": null,
      "outputs": []
    },
    {
      "cell_type": "code",
      "source": [
        "purchase_data.info()"
      ],
      "metadata": {
        "id": "aCQ5qqGqXTXg"
      },
      "execution_count": null,
      "outputs": []
    },
    {
      "cell_type": "code",
      "source": [
        "purchase_data.describe()"
      ],
      "metadata": {
        "id": "aUiX1r47XeYg"
      },
      "execution_count": null,
      "outputs": []
    },
    {
      "cell_type": "code",
      "source": [
        "purchase_data.isnull().sum()"
      ],
      "metadata": {
        "id": "00lwXT6pXf-w"
      },
      "execution_count": null,
      "outputs": []
    },
    {
      "cell_type": "code",
      "source": [
        "transaction_data.head()"
      ],
      "metadata": {
        "id": "SF2vSe-eXiC2"
      },
      "execution_count": null,
      "outputs": []
    },
    {
      "cell_type": "code",
      "source": [
        "transaction_data['DATE'].head()"
      ],
      "metadata": {
        "id": "vj_8UPm_d20P"
      },
      "execution_count": null,
      "outputs": []
    },
    {
      "cell_type": "code",
      "source": [
        "transaction_data.shape"
      ],
      "metadata": {
        "id": "a1I_Ww_ZXqLs"
      },
      "execution_count": null,
      "outputs": []
    },
    {
      "cell_type": "code",
      "source": [
        "transaction_data.columns"
      ],
      "metadata": {
        "id": "RGp2aA2KXsky"
      },
      "execution_count": null,
      "outputs": []
    },
    {
      "cell_type": "code",
      "source": [
        "transaction_data.info()"
      ],
      "metadata": {
        "id": "qzFo7EvqXvIF"
      },
      "execution_count": null,
      "outputs": []
    },
    {
      "cell_type": "code",
      "source": [
        "transaction_data.describe()"
      ],
      "metadata": {
        "id": "c6z5xLxoX1Lk"
      },
      "execution_count": null,
      "outputs": []
    },
    {
      "cell_type": "markdown",
      "source": [
        "1. Data Cleaning & Preparation:"
      ],
      "metadata": {
        "id": "WfvtbFw8FDdO"
      }
    },
    {
      "cell_type": "code",
      "source": [
        "transaction_data.isnull().sum()"
      ],
      "metadata": {
        "id": "ivlTbSG5X3wM"
      },
      "execution_count": null,
      "outputs": []
    },
    {
      "cell_type": "code",
      "source": [
        "purchase_data.duplicated().sum()"
      ],
      "metadata": {
        "id": "K_y-zathYCT8"
      },
      "execution_count": null,
      "outputs": []
    },
    {
      "cell_type": "code",
      "source": [
        "transaction_data.duplicated().sum()"
      ],
      "metadata": {
        "id": "sk4eKpafY0g6"
      },
      "execution_count": null,
      "outputs": []
    },
    {
      "cell_type": "code",
      "source": [
        "transaction_data.drop_duplicates(inplace=True)"
      ],
      "metadata": {
        "id": "LgKQCk_wY-FY"
      },
      "execution_count": null,
      "outputs": []
    },
    {
      "cell_type": "code",
      "source": [
        "transaction_data.duplicated().sum()"
      ],
      "metadata": {
        "id": "TJhQ8epYZQsK"
      },
      "execution_count": null,
      "outputs": []
    },
    {
      "cell_type": "code",
      "source": [
        "#checking for outliers - purchase data\n",
        "plt.figure(figsize=(8, 5))\n",
        "sns.boxplot(data=purchase_data)\n",
        "plt.title('Outlier Check - Purchase Data')\n",
        "plt.show()"
      ],
      "metadata": {
        "id": "1Uhd7HonZUwC"
      },
      "execution_count": null,
      "outputs": []
    },
    {
      "cell_type": "code",
      "source": [
        "#Outlier check - Transaction Data\n",
        "plt.figure(figsize=(10, 7))\n",
        "sns.boxplot(data=transaction_data)\n",
        "plt.title('Outlier Check - Transaction Data')\n",
        "plt.show()"
      ],
      "metadata": {
        "id": "lqNZylQraL6s"
      },
      "execution_count": null,
      "outputs": []
    },
    {
      "cell_type": "code",
      "source": [
        "purchase_data.dtypes"
      ],
      "metadata": {
        "id": "CbxSXHihaV5y"
      },
      "execution_count": null,
      "outputs": []
    },
    {
      "cell_type": "code",
      "source": [
        "transaction_data.dtypes"
      ],
      "metadata": {
        "id": "LD6sDOAHg4u5"
      },
      "execution_count": null,
      "outputs": []
    },
    {
      "cell_type": "code",
      "source": [
        "purchase_data['PREMIUM_CUSTOMER'] = purchase_data['PREMIUM_CUSTOMER'].astype('category')\n",
        "purchase_data['LIFESTAGE'] = purchase_data['LIFESTAGE'].astype('category')"
      ],
      "metadata": {
        "id": "5TlSAQMfvWV9"
      },
      "execution_count": null,
      "outputs": []
    },
    {
      "cell_type": "code",
      "source": [
        "#purchase_data.dtypes"
      ],
      "metadata": {
        "id": "gHEImjO_wRXG"
      },
      "execution_count": null,
      "outputs": []
    },
    {
      "cell_type": "markdown",
      "source": [
        "* Outliers: Found in customer and transaction data, but they were ID columns, so no action needed.  \n",
        "* Duplicates: One duplicate transaction was found and removed — a minor anomaly.  \n",
        "* Date Formatting: Fixed the date column, converting it from an integer format to a proper datetime format.  \n",
        "* Feature Engineering: Successfully extracted Brand and Pack Size from product descriptions.  \n",
        "* Insight: The data is now clean and ready for analysis — no major issues were found.  "
      ],
      "metadata": {
        "id": "4tbWHoVvBxn4"
      }
    },
    {
      "cell_type": "code",
      "source": [
        "merged_data = pd.merge(transaction_data, purchase_data, on='LYLTY_CARD_NBR')\n",
        "merged_data.head()"
      ],
      "metadata": {
        "id": "C64x6oRKwY1w"
      },
      "execution_count": null,
      "outputs": []
    },
    {
      "cell_type": "code",
      "source": [
        "merged_data.info()"
      ],
      "metadata": {
        "id": "rt0ev9I8wjda"
      },
      "execution_count": null,
      "outputs": []
    },
    {
      "cell_type": "code",
      "source": [
        "merged_data.describe()"
      ],
      "metadata": {
        "id": "ChGbdHl_0qPx"
      },
      "execution_count": null,
      "outputs": []
    },
    {
      "cell_type": "code",
      "source": [
        "merged_data.shape"
      ],
      "metadata": {
        "id": "uroBJvWKwss8"
      },
      "execution_count": null,
      "outputs": []
    },
    {
      "cell_type": "code",
      "source": [
        "merged_data['price_per_unit'] = merged_data['TOT_SALES'] / merged_data['PROD_QTY']\n",
        "merged_data['price_per_unit'].describe()"
      ],
      "metadata": {
        "id": "t4aVYxcfy2EQ"
      },
      "execution_count": null,
      "outputs": []
    },
    {
      "cell_type": "markdown",
      "source": [
        "2. Sales Analysis:"
      ],
      "metadata": {
        "id": "7AO5js1JE3WD"
      }
    },
    {
      "cell_type": "code",
      "source": [
        "#univariate analysis\n",
        "plt.figure(figsize=(10, 7))\n",
        "sns.histplot(merged_data['TOT_SALES'], bins = 30, kde=True)\n",
        "plt.title('Distribution of Total Sales')\n",
        "plt.show()"
      ],
      "metadata": {
        "id": "nvc2BLde4sCG"
      },
      "execution_count": null,
      "outputs": []
    },
    {
      "cell_type": "code",
      "source": [
        "plt.figure(figsize=(10,7))\n",
        "sns.histplot(merged_data[merged_data['TOT_SALES'] <=25]['TOT_SALES'], bins=30, kde=True)\n",
        "plt.title('Distribution of Total Sales 0-30')\n",
        "plt.show()"
      ],
      "metadata": {
        "id": "l602IVJeeGFQ"
      },
      "execution_count": null,
      "outputs": []
    },
    {
      "cell_type": "code",
      "source": [
        "merged_data[merged_data['TOT_SALES'] <= 21.62]['TOT_SALES'].value_counts().sort_values(ascending=False)"
      ],
      "metadata": {
        "id": "BTnIscaahhJw"
      },
      "execution_count": null,
      "outputs": []
    },
    {
      "cell_type": "code",
      "source": [
        "# Grouping data by product and summing total sales\n",
        "product_sales = merged_data.groupby('PROD_NAME')['TOT_SALES'].sum().sort_values(ascending=False).head(15)\n",
        "\n",
        "# Visualizing the top 10 products by total sales\n",
        "plt.figure(figsize=(12, 9))\n",
        "sns.barplot(x=product_sales.index, y=product_sales.values)\n",
        "plt.title('Top 15 Products by Total Sales')\n",
        "plt.xlabel('Product Name')\n",
        "plt.ylabel('Total Sales')\n",
        "plt.xticks(rotation=90)\n",
        "plt.show()"
      ],
      "metadata": {
        "id": "Ku-m3squwhYe"
      },
      "execution_count": null,
      "outputs": []
    },
    {
      "cell_type": "markdown",
      "source": [
        "* Total Sales Distribution: Right-skewed, indicating that most sales come from lower-priced products.  \n",
        "* Price Range Insight: Majority of sales fall in the ₹7–₹10 range; sales beyond ₹15 are minimal.  \n",
        "* Top-Selling Products: \"Dorito Corn Chips\" emerged as the most purchased item, followed by several other well-performing products.  \n",
        "* Recommendation: Introduce more product varieties in the ₹7–₹10 range, as that’s the sweet spot for customer spending.  "
      ],
      "metadata": {
        "id": "vZ7lT_a5CVvW"
      }
    },
    {
      "cell_type": "markdown",
      "source": [
        "\n",
        "3. Customer Analysis:"
      ],
      "metadata": {
        "id": "O-Usozm5EbN6"
      }
    },
    {
      "cell_type": "code",
      "source": [
        "x = merged_data.groupby('LIFESTAGE')['TOT_SALES'].sum().sort_values(ascending=False).reset_index()"
      ],
      "metadata": {
        "id": "ApZhWDU0UBSQ"
      },
      "execution_count": null,
      "outputs": []
    },
    {
      "cell_type": "code",
      "source": [
        "#total sales vs lifestage\n",
        "plt.figure(figsize=(8, 5))\n",
        "sns.barplot(x='LIFESTAGE', y='TOT_SALES', data=x, errorbar=None)\n",
        "plt.title('Total Sales by Lifestage')\n",
        "plt.xlabel('Lifestage')\n",
        "plt.ylabel('Total Sales')\n",
        "plt.xticks(rotation=90)\n",
        "plt.show()"
      ],
      "metadata": {
        "id": "la38oUGUxZlJ"
      },
      "execution_count": null,
      "outputs": []
    },
    {
      "cell_type": "code",
      "source": [
        "#total sales vs. premium customer\n",
        "premium_sales = merged_data.groupby('PREMIUM_CUSTOMER')['TOT_SALES'].sum().reset_index()"
      ],
      "metadata": {
        "id": "CRXYUuqfUpCd"
      },
      "execution_count": null,
      "outputs": []
    },
    {
      "cell_type": "code",
      "source": [
        "plt.figure(figsize=(8, 5))\n",
        "sns.barplot(x='PREMIUM_CUSTOMER', y='TOT_SALES', data=premium_sales, errorbar=None, palette=\"viridis\")  # Change palette\n",
        "plt.title('Total Sales by Customer Affluence', fontsize=14, fontweight='bold')\n",
        "plt.xlabel('Customer Type', fontsize=12)\n",
        "plt.ylabel('Total Sales', fontsize=12)\n",
        "plt.xticks(rotation=0)\n",
        "plt.grid(axis='y', linestyle='--', alpha=0.7)  # Add a subtle grid\n",
        "plt.show()"
      ],
      "metadata": {
        "id": "n-ifhN_OWco0"
      },
      "execution_count": null,
      "outputs": []
    },
    {
      "cell_type": "markdown",
      "source": [
        "1. Lifestage Analysis:\n",
        "\n",
        "* Top Spend Group: Older Singles/Couples contribute the highest sales.  \n",
        "* Lowest Spend Group: New Families and Mid-age Singles/Couples spend the least.  \n",
        "* Recommendation: Tailor promotional offers and product variety towards older customer segments.  \n",
        "\n",
        "2. Premium vs. Budget:  \n",
        "* Premium customers make lower sales contributions compared to budget customers.  \n",
        "* Recommendation: Incentivize premium customers with loyalty programs or targeted discounts to boost their engagement."
      ],
      "metadata": {
        "id": "b8PJSZQ-Cfjs"
      }
    },
    {
      "cell_type": "markdown",
      "source": [
        "4. Store Performance:"
      ],
      "metadata": {
        "id": "FdADVhxeEKWk"
      }
    },
    {
      "cell_type": "code",
      "source": [
        "#total sales vs. store number\n",
        "store_sales = merged_data.groupby('STORE_NBR')['TOT_SALES'].sum().sort_values(ascending=False).reset_index().head(20)"
      ],
      "metadata": {
        "id": "cv85dl8LWj_T"
      },
      "execution_count": null,
      "outputs": []
    },
    {
      "cell_type": "code",
      "source": [
        "plt.figure(figsize=(8, 5))\n",
        "sns.barplot(x='STORE_NBR', y='TOT_SALES', data=store_sales, errorbar=None)\n",
        "plt.title('Total Sales by Store Number')\n",
        "plt.xlabel('Store Number')\n",
        "plt.ylabel('Total Sales')\n",
        "plt.xticks(rotation=90)\n",
        "plt.show()"
      ],
      "metadata": {
        "id": "IDaf-V9WXRrk"
      },
      "execution_count": null,
      "outputs": []
    },
    {
      "cell_type": "markdown",
      "source": [
        "* Top Performing Store: Store 226 had the highest sales, with several others closely following.  \n",
        "* Sales Consistency: Sales remain fairly steady across months, with a slight dip in February.  \n",
        "* Recommendation: Investigate Store 226's practices and replicate its strategies in underperforming stores.  "
      ],
      "metadata": {
        "id": "670ks49TCkzj"
      }
    },
    {
      "cell_type": "markdown",
      "source": [
        "5. Purchase Behavior:"
      ],
      "metadata": {
        "id": "XA0_Va8sGl-W"
      }
    },
    {
      "cell_type": "code",
      "source": [
        "transaction_data['DATE'] = pd.to_datetime(transaction_data['DATE'], origin='1899-12-30', unit='D')"
      ],
      "metadata": {
        "id": "2mh4YGkZc_4k"
      },
      "execution_count": null,
      "outputs": []
    },
    {
      "cell_type": "code",
      "source": [
        "print(transaction_data['DATE'].head())\n",
        "print(transaction_data['DATE'].dtype)"
      ],
      "metadata": {
        "id": "FJRJXWGOelHi"
      },
      "execution_count": null,
      "outputs": []
    },
    {
      "cell_type": "code",
      "source": [
        "transaction_data['MONTH_YEAR'] = transaction_data['DATE'].dt.to_period('M')\n",
        "monthly_sales = transaction_data.groupby('MONTH_YEAR')['TOT_SALES'].sum().reset_index()\n",
        "\n",
        "plt.figure(figsize=(8, 5))\n",
        "sns.barplot(x='MONTH_YEAR', y='TOT_SALES', data=monthly_sales, errorbar=None)\n",
        "plt.xticks(rotation=45)\n",
        "plt.title('Total Sales by Month')\n",
        "plt.show()"
      ],
      "metadata": {
        "id": "oL5pN0pzeoJN"
      },
      "execution_count": null,
      "outputs": []
    },
    {
      "cell_type": "code",
      "source": [
        "import matplotlib.pyplot as plt\n",
        "import seaborn as sns\n",
        "\n",
        "# Convert MONTH_YEAR to string for better visualization\n",
        "transaction_data['MONTH_YEAR'] = transaction_data['DATE'].dt.to_period('M').astype(str)\n",
        "\n",
        "# Aggregate total sales by month\n",
        "monthly_sales = transaction_data.groupby('MONTH_YEAR')['TOT_SALES'].sum().reset_index()\n",
        "\n",
        "# Plot Line Chart\n",
        "plt.figure(figsize=(10, 5))\n",
        "sns.lineplot(x='MONTH_YEAR', y='TOT_SALES', data=monthly_sales, marker='o', color='blue', label=\"Total Sales\")\n",
        "\n",
        "# Highlight December peak\n",
        "plt.axvline(x=monthly_sales[monthly_sales['MONTH_YEAR'].str.endswith('-12')].index[-1], linestyle='dashed', color='red', label=\"December Peak\")\n",
        "\n",
        "# Formatting\n",
        "plt.xticks(rotation=45)\n",
        "plt.xlabel(\"Month-Year\")\n",
        "plt.ylabel(\"Total Sales\")\n",
        "plt.title(\"Total Sales Trends by Month\")\n",
        "plt.legend()\n",
        "plt.show()"
      ],
      "metadata": {
        "id": "nuoew7vdCISD"
      },
      "execution_count": null,
      "outputs": []
    },
    {
      "cell_type": "code",
      "source": [
        "#total sales vs. product quantity\n",
        "qty_sales = merged_data.groupby('PROD_QTY')['TOT_SALES'].sum().reset_index()\n",
        "\n",
        "# Plotting\n",
        "plt.figure(figsize=(8, 5))\n",
        "sns.barplot(x='PROD_QTY', y='TOT_SALES', data=qty_sales, errorbar=None)\n",
        "plt.title('Total Sales by Product Quantity')\n",
        "plt.xlabel('Product Quantity')\n",
        "plt.ylabel('Total Sales')\n",
        "plt.show()"
      ],
      "metadata": {
        "id": "yvczWFWqijk_"
      },
      "execution_count": null,
      "outputs": []
    },
    {
      "cell_type": "markdown",
      "source": [
        "* Product Quantity: Most customers purchase two units at a time; single-item purchases account for a smaller share.  \n",
        "* Recommendation: Consider bundling offers or discounts for multi-pack purchases to further encourage larger buys."
      ],
      "metadata": {
        "id": "3QQtvc8ECrh6"
      }
    },
    {
      "cell_type": "code",
      "source": [
        "#total spend per customer\n",
        "total_spend = merged_data.groupby('LYLTY_CARD_NBR')['TOT_SALES'].sum().reset_index()\n",
        "total_spend.columns = ['Customer_ID', 'Total_Spend']\n",
        "total_spend.sort_values(by='Total_Spend', ascending = False).head()"
      ],
      "metadata": {
        "id": "ucRBIf3TlsHA"
      },
      "execution_count": null,
      "outputs": []
    },
    {
      "cell_type": "code",
      "source": [
        "#average spend per transaction\n",
        "avg_spend=merged_data.groupby('TXN_ID')['TOT_SALES'].mean().reset_index()\n",
        "avg_spend.columns = ['Transaction_ID', 'Average_Spend']\n",
        "avg_spend.sort_values(by='Average_Spend', ascending = False).head()"
      ],
      "metadata": {
        "id": "tLBfBHFZy0EX"
      },
      "execution_count": null,
      "outputs": []
    },
    {
      "cell_type": "code",
      "source": [
        "#transaction per customer\n",
        "transaction_count = merged_data.groupby('LYLTY_CARD_NBR')['TXN_ID'].nunique().reset_index()\n",
        "transaction_count.columns = ['Customer_ID', 'Transaction_Count']\n",
        "transaction_count.sort_values(by='Transaction_Count', ascending = False).head().reset_index()"
      ],
      "metadata": {
        "id": "TK5DcrCiz-tF"
      },
      "execution_count": null,
      "outputs": []
    },
    {
      "cell_type": "code",
      "source": [
        "#avg product quantity per transaction\n",
        "avg_qty = merged_data.groupby('TXN_ID')['PROD_QTY'].mean().reset_index()\n",
        "avg_qty.columns = ['Transaction_ID', 'Average_Quantity']\n",
        "avg_qty.head()"
      ],
      "metadata": {
        "id": "OvkdZPtR15gt"
      },
      "execution_count": null,
      "outputs": []
    },
    {
      "cell_type": "markdown",
      "source": [
        "Feature Engineering"
      ],
      "metadata": {
        "id": "HI_yhIxZ3x4G"
      }
    },
    {
      "cell_type": "code",
      "source": [
        "merged_data['BRAND'] = merged_data['PROD_NAME'].apply(lambda x: x.split()[0])"
      ],
      "metadata": {
        "id": "O5wobCom3SDM"
      },
      "execution_count": null,
      "outputs": []
    },
    {
      "cell_type": "code",
      "source": [
        "import re\n",
        "merged_data['PACK_SIZE'] = merged_data['PROD_NAME'].apply(lambda x: re.search(r'\\d+g', x).group() if re.search(r'\\d+g', x) else 'Unknown')"
      ],
      "metadata": {
        "id": "kINPrn6B4Jku"
      },
      "execution_count": null,
      "outputs": []
    },
    {
      "cell_type": "code",
      "source": [
        "#merged_data.head()"
      ],
      "metadata": {
        "id": "Su8WsjWP4YdC"
      },
      "execution_count": null,
      "outputs": []
    },
    {
      "cell_type": "markdown",
      "source": [
        "Customer Segmentation"
      ],
      "metadata": {
        "id": "KUfNqLUP6G-O"
      }
    },
    {
      "cell_type": "code",
      "source": [
        "# Total spend per customer\n",
        "total_spend = merged_data.groupby('LYLTY_CARD_NBR')['TOT_SALES'].sum().reset_index()\n",
        "total_spend.columns = ['Customer_ID', 'Total_Spend']\n",
        "\n",
        "\n",
        "total_spend['Spending_Category'] = pd.qcut(total_spend['Total_Spend'],\n",
        "                                          q=[0, 0.25, 0.75, 1.0],\n",
        "                                          labels=['Low Spender', 'Mid Spender', 'High Spender'])\n",
        "\n",
        "\n",
        "total_spend.head()"
      ],
      "metadata": {
        "id": "svsYCtEcBOmp"
      },
      "execution_count": null,
      "outputs": []
    },
    {
      "cell_type": "code",
      "source": [
        "# Purchase frequency per customer\n",
        "purchase_freq = merged_data.groupby('LYLTY_CARD_NBR')['TXN_ID'].nunique().reset_index()\n",
        "purchase_freq.columns = ['Customer_ID', 'Purchase_Frequency']\n",
        "\n",
        "purchase_freq['Frequency_Category'] = pd.qcut(purchase_freq['Purchase_Frequency'],\n",
        "                                                 q=[0, 0.5, 0.75, 1.0],\n",
        "                                                 labels=['Occasional Buyer', 'Regular Buyer', 'Frequent Buyer'],\n",
        "                                                 duplicates='drop')\n",
        "\n",
        "\n",
        "purchase_freq.head()"
      ],
      "metadata": {
        "id": "dw5eI1ZfAF5n"
      },
      "execution_count": null,
      "outputs": []
    },
    {
      "cell_type": "code",
      "source": [
        "# Visualize Spend Category Distribution\n",
        "plt.figure(figsize=(6, 4))\n",
        "sns.countplot(x='Spending_Category', data=total_spend, hue='Spending_Category', legend=False, palette='viridis')\n",
        "plt.title('Distribution of Spend Categories')\n",
        "plt.xlabel('Spend Category')\n",
        "plt.ylabel('Number of Customers')\n",
        "plt.show()\n",
        "\n",
        "# Visualize Frequency Category Distribution\n",
        "plt.figure(figsize=(6, 4))\n",
        "sns.countplot(x='Frequency_Category', data=purchase_freq, hue='Frequency_Category', legend=False, palette='magma')\n",
        "plt.title('Distribution of Purchase Frequency Categories')\n",
        "plt.xlabel('Frequency Category')\n",
        "plt.ylabel('Number of Customers')\n",
        "plt.show()"
      ],
      "metadata": {
        "id": "dt1bM4kRD4bS"
      },
      "execution_count": null,
      "outputs": []
    },
    {
      "cell_type": "markdown",
      "source": [
        "1. Spending Patterns:\n",
        "\n",
        "* Mid-level spenders dominate the customer base.  \n",
        "* High spenders are a smaller but important segment.  \n",
        "* Recommendation: Offer exclusive deals or early access to new products for high spenders to maintain their loyalty.  \n",
        "\n",
        "2. Buying Frequency:  \n",
        "* Occasional buyers form the largest segment; frequent buyers are relatively few.\n",
        "* Recommendation: Engage occasional buyers with personalized discounts or reminders to increase their purchase frequency."
      ],
      "metadata": {
        "id": "WF4VJomdC6o9"
      }
    },
    {
      "cell_type": "markdown",
      "source": [
        "7. Brand Preference:"
      ],
      "metadata": {
        "id": "h0oIdu75Dmcf"
      }
    },
    {
      "cell_type": "code",
      "source": [
        "# Dictionary to fix brand names\n",
        "brand_fixes = {\n",
        "    'Burger': 'Unknown',\n",
        "    'French': 'Unknown',\n",
        "    'Old': 'Old El Paso',\n",
        "    'Grain': 'Grain Waves',\n",
        "    'Red': 'Red Rock Deli',\n",
        "    'Infzns': 'Infuzions',\n",
        "    'GrnWves': 'Grain Waves Plus',\n",
        "    'Snbts': 'Sunbites'\n",
        "}\n",
        "\n",
        "merged_data['BRAND'] = merged_data['BRAND'].replace(brand_fixes)"
      ],
      "metadata": {
        "id": "31ckZY1gIBfe"
      },
      "execution_count": null,
      "outputs": []
    },
    {
      "cell_type": "code",
      "source": [
        "brand_sales = merged_data.groupby('BRAND')['TOT_SALES'].sum().reset_index().sort_values(by='TOT_SALES', ascending=False)\n",
        "\n",
        "plt.figure(figsize=(10, 6))\n",
        "sns.barplot(x='BRAND', y='TOT_SALES', data=brand_sales, hue='BRAND', dodge=False, legend=False, palette='rocket')\n",
        "plt.title('Total Sales by Brand')\n",
        "plt.xticks(rotation=90)\n",
        "plt.xlabel('Brand')\n",
        "plt.ylabel('Total Sales')\n",
        "plt.show()"
      ],
      "metadata": {
        "id": "2NuKf-zfFWHL"
      },
      "execution_count": null,
      "outputs": []
    },
    {
      "cell_type": "code",
      "source": [
        "import matplotlib.pyplot as plt\n",
        "\n",
        "# Group by LIFESTAGE and PREMIUM_CUSTOMER and sum total sales (explicitly set observed=False to remove warning)\n",
        "segment_sales = merged_data.groupby(['LIFESTAGE', 'PREMIUM_CUSTOMER'], observed=False)['TOT_SALES'].sum().reset_index()\n",
        "\n",
        "# Convert categorical columns to string before combining them\n",
        "segment_sales['LABEL'] = segment_sales['LIFESTAGE'].astype(str) + \" - \" + segment_sales['PREMIUM_CUSTOMER'].astype(str)\n",
        "\n",
        "# Extract labels and values\n",
        "labels = segment_sales['LABEL']\n",
        "sizes = segment_sales['TOT_SALES']\n",
        "\n",
        "# Create Pie Chart\n",
        "plt.figure(figsize=(12, 12))\n",
        "plt.pie(sizes, labels=labels, autopct='%1.1f%%', startangle=140)\n",
        "plt.title(\"Customer Segmentation by Life Stage & Spending Type\")\n",
        "plt.show()"
      ],
      "metadata": {
        "id": "uQEXlGVgII1g"
      },
      "execution_count": null,
      "outputs": []
    },
    {
      "cell_type": "markdown",
      "source": [
        "* Top Brands: \"Kettle\" is the most popular brand, followed by Smiths and Doritos.  \n",
        "* Brand Anomalies: Fixed misclassified brand names like \"Grain Waves\" and \"Old El Paso\".  \n",
        "* Recommendation: Increase visibility and shelf space for top-performing brands and phase out underperforming ones.  "
      ],
      "metadata": {
        "id": "NJZGcoWKDBXq"
      }
    },
    {
      "cell_type": "markdown",
      "source": [
        "8. Pack Size Preference:"
      ],
      "metadata": {
        "id": "e3ViHauvDhHR"
      }
    },
    {
      "cell_type": "code",
      "source": [
        "# Total sales by pack size\n",
        "pack_sales = merged_data.groupby('PACK_SIZE')['TOT_SALES'].sum().reset_index()\n",
        "\n",
        "# Sort by pack size for better visualization\n",
        "pack_sales = pack_sales.sort_values(by='PACK_SIZE')\n",
        "\n",
        "# Visualize total sales by pack size\n",
        "plt.figure(figsize=(10, 6))\n",
        "sns.barplot(x='PACK_SIZE', y='TOT_SALES', data=pack_sales,hue='PACK_SIZE', legend=False, palette='magma')\n",
        "plt.title('Total Sales by Pack Size')\n",
        "plt.xlabel('Pack Size (grams)')\n",
        "plt.ylabel('Total Sales')\n",
        "plt.xticks(rotation=45)\n",
        "plt.show()"
      ],
      "metadata": {
        "id": "wgxLnAvMNVun"
      },
      "execution_count": null,
      "outputs": []
    },
    {
      "cell_type": "markdown",
      "source": [
        "* Insight: 175g packs are the most preferred, suggesting this size balances value and price well for customers.\n",
        "* Recommendation: Ensure ample stock of 175g packs and explore similar sizing strategies for new product launches."
      ],
      "metadata": {
        "id": "xmfrRAKQDEsz"
      }
    },
    {
      "cell_type": "markdown",
      "source": [
        "**Strategic Recommendations:**\n",
        "\n",
        "* Drive sales growth by doubling down on popular price ranges and pack sizes.  \n",
        "* Boost engagement with occasional buyers through personalized offers and loyalty incentives.  \n",
        "* Tailor marketing and product selection toward high-spending customer segments (Older Singles/Couples, Retirees).  \n",
        "* Investigate successful store practices and replicate them across underperforming locations."
      ],
      "metadata": {
        "id": "9v_6ZDLjIC6R"
      }
    },
    {
      "cell_type": "code",
      "source": [],
      "metadata": {
        "id": "tiOAUZvzWesg"
      },
      "execution_count": null,
      "outputs": []
    }
  ]
}