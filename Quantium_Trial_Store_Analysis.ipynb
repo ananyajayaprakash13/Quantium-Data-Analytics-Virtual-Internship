{
  "nbformat": 4,
  "nbformat_minor": 0,
  "metadata": {
    "colab": {
      "private_outputs": true,
      "provenance": []
    },
    "kernelspec": {
      "name": "python3",
      "display_name": "Python 3"
    },
    "language_info": {
      "name": "python"
    }
  },
  "cells": [
    {
      "cell_type": "markdown",
      "source": [
        "## 🛒 Retail Trial Store Analysis\n",
        "\n",
        "### 📌 Project Overview\n",
        "This project evaluates the impact of a trial layout change in selected stores using SQL and Python.\n",
        "\n",
        "### 🛠️ Tools Used\n",
        "- Python (Pandas, Matplotlib, Seaborn, Scipy)\n",
        "- Statistical Testing (T-Test)\n",
        "- Data Visualization\n",
        "\n",
        "### 🔍 Key Insights\n",
        "✅ Trial Stores 86 & 88 showed **significant sales growth**  \n",
        "❌ Trial Store 77 **did not show significant improvement**  \n",
        "➡️ Business should **expand** the trial changes to stores similar to 86 & 88.\n",
        "\n",
        "### 🚀 How to Run the Code\n",
        "1. Clone the repository  \n",
        "2. Install required libraries (`pip install pandas matplotlib seaborn scipy`)  \n",
        "3. Run `quantium_trial_store_analysis.py`\n",
        "\n",
        "### 📈 Visual Insights\n",
        "- The sales trends of trial and control stores were **similar before the intervention**, confirming proper control store selection.\n",
        "- **Trial Stores 86 & 88 showed clear spikes** post-intervention, which was confirmed statistically.\n",
        "- **Trial Store 77 did not show a significant difference**, meaning the intervention **had no measurable impact there**.\n",
        "\n",
        "### 📊 Business Recommendations\n",
        "- **Expand changes to stores similar to 86 & 88**.\n",
        "- **Reassess Store 77 and investigate other influencing factors.**\n",
        "- **Monitor long-term impact before full rollout**.\n",
        "  \n",
        "\n"
      ],
      "metadata": {
        "id": "hW-0WRdm6YhS"
      }
    },
    {
      "cell_type": "markdown",
      "source": [
        "\n",
        "1. Data Exploration & Preprocessing\n",
        "We start by loading and inspecting the dataset. This helps understand the columns, missing values, and data types."
      ],
      "metadata": {
        "id": "Q-v1VrwWyiQP"
      }
    },
    {
      "cell_type": "code",
      "source": [
        "from google.colab import files\n",
        "uploaded = files.upload()"
      ],
      "metadata": {
        "id": "AjDbwaN2cHEE"
      },
      "execution_count": null,
      "outputs": []
    },
    {
      "cell_type": "code",
      "execution_count": null,
      "metadata": {
        "id": "4bMiPcxvtRXd"
      },
      "outputs": [],
      "source": [
        "import pandas as pd\n",
        "import seaborn as sns\n",
        "import matplotlib.pyplot as plt\n",
        "import numpy as np"
      ]
    },
    {
      "cell_type": "code",
      "source": [
        "df = pd.read_csv('QVI_data.csv')\n",
        "df.head()"
      ],
      "metadata": {
        "id": "eBLY3Gu_tnFV"
      },
      "execution_count": null,
      "outputs": []
    },
    {
      "cell_type": "code",
      "source": [
        "df.shape"
      ],
      "metadata": {
        "id": "S4E5DsuWuLyW"
      },
      "execution_count": null,
      "outputs": []
    },
    {
      "cell_type": "code",
      "source": [
        "df.columns"
      ],
      "metadata": {
        "id": "QtHXv7nwvEod"
      },
      "execution_count": null,
      "outputs": []
    },
    {
      "cell_type": "code",
      "source": [
        "df.describe()"
      ],
      "metadata": {
        "id": "Cc9LEILnvF9h"
      },
      "execution_count": null,
      "outputs": []
    },
    {
      "cell_type": "code",
      "source": [
        "df.info()"
      ],
      "metadata": {
        "id": "1ssEWvCevKpy"
      },
      "execution_count": null,
      "outputs": []
    },
    {
      "cell_type": "markdown",
      "source": [
        "Column Overview: The dataset contains 264,834 rows and 12 columns including important ones like STORE_NBR, TXN_ID, TOT_SALES, and LYLTY_CARD_NBR. We’ll focus on stores 77, 86, and 88 for our trial stores.\n",
        "\n",
        "Data Cleaning: We'll ensure that the DATE column is in datetime format and handle any other necessary preprocessing steps (e.g., removing duplicates or handling missing values)."
      ],
      "metadata": {
        "id": "eqmlVxLXyusy"
      }
    },
    {
      "cell_type": "code",
      "source": [
        "# Convert 'DATE' to datetime format\n",
        "df['DATE'] = pd.to_datetime(df['DATE'])"
      ],
      "metadata": {
        "id": "-w5WqJ7lyzb2"
      },
      "execution_count": null,
      "outputs": []
    },
    {
      "cell_type": "code",
      "source": [
        "df.isnull().sum()"
      ],
      "metadata": {
        "id": "FLnc53VDvO3K"
      },
      "execution_count": null,
      "outputs": []
    },
    {
      "cell_type": "code",
      "source": [
        "df.duplicated().sum()"
      ],
      "metadata": {
        "id": "NMj8c06bdnxG"
      },
      "execution_count": null,
      "outputs": []
    },
    {
      "cell_type": "code",
      "source": [
        "df.drop_duplicates(inplace=True)"
      ],
      "metadata": {
        "id": "pXKSsgiwd0QU"
      },
      "execution_count": null,
      "outputs": []
    },
    {
      "cell_type": "code",
      "source": [
        "store_summary = df.groupby('STORE_NBR').agg(\n",
        "    total_sales=('TOT_SALES', 'sum'),\n",
        "    total_customers=('LYLTY_CARD_NBR', pd.Series.nunique),\n",
        "    avg_transactions_per_customer=('TXN_ID', 'count')\n",
        ").reset_index()\n",
        "\n",
        "store_summary['avg_transactions_per_customer'] = store_summary['avg_transactions_per_customer'] / store_summary['total_customers']\n",
        "\n",
        "store_summary.head()"
      ],
      "metadata": {
        "id": "ksuQ2N5Ae_ES"
      },
      "execution_count": null,
      "outputs": []
    },
    {
      "cell_type": "code",
      "source": [
        "# Ensure STORE_NBR is the index\n",
        "store_summary = store_summary.set_index('STORE_NBR')\n",
        "\n",
        "# ✅ Compute correlation between stores (not metrics)\n",
        "correlation_matrix = store_summary.T.corr()  # Transpose before correlation\n",
        "\n",
        "# ✅ Print to check if STORE_NBR is now the index\n",
        "correlation_matrix.head() # Should show store numbers in both index & columns"
      ],
      "metadata": {
        "id": "Thzxzyn3oZL9"
      },
      "execution_count": null,
      "outputs": []
    },
    {
      "cell_type": "code",
      "source": [
        "trial_stores = [77, 86, 88]  # Trial stores\n",
        "\n",
        "# Get correlations for trial stores\n",
        "correlation_with_trials = correlation_matrix.loc[trial_stores]\n",
        "\n",
        "# Find the most similar stores (excluding itself)\n",
        "control_stores = correlation_with_trials.apply(lambda x: x.drop(trial_stores).abs().idxmax(), axis=1)\n",
        "\n",
        "print(\"Selected Control Stores:\", control_stores)\n"
      ],
      "metadata": {
        "id": "K56dqnqFpCXF"
      },
      "execution_count": null,
      "outputs": []
    },
    {
      "cell_type": "markdown",
      "source": [
        "To assess the effectiveness of the trial, each trial store was paired with a control store based on similarity in historical sales patterns. The selected pairs are:  \n",
        "TS     CS  \n",
        "77     50  \n",
        "86     70  \n",
        "88     155\n"
      ],
      "metadata": {
        "id": "n00bHIVF7BIG"
      }
    },
    {
      "cell_type": "code",
      "source": [
        "import matplotlib.pyplot as plt\n",
        "\n",
        "# Define trial and control store pairs\n",
        "trial_control_pairs = {77: 50, 86: 70, 88: 155}  # Your selected control stores\n",
        "\n",
        "# Loop through each pair and plot their comparison\n",
        "for trial_store, control_store in trial_control_pairs.items():\n",
        "    # Filter data for the trial and control stores\n",
        "    trial_data = df[df['STORE_NBR'] == trial_store]  # Change to 'STORES' if needed\n",
        "    control_data = df[df['STORE_NBR'] == control_store]\n",
        "\n",
        "    # Aggregate total sales by date\n",
        "    trial_sales = trial_data.groupby('DATE')['TOT_SALES'].sum()\n",
        "    control_sales = control_data.groupby('DATE')['TOT_SALES'].sum()\n",
        "\n",
        "    # Plot sales comparison\n",
        "    plt.figure(figsize=(10, 5))\n",
        "    plt.plot(trial_sales, label=f\"Trial Store {trial_store}\", color='blue')\n",
        "    plt.plot(control_sales, label=f\"Control Store {control_store}\", color='red', linestyle='dashed')\n",
        "\n",
        "    # Labels, title, and legend\n",
        "    plt.xlabel(\"Date\")\n",
        "    plt.ylabel(\"Total Sales\")\n",
        "    plt.title(f\"Sales Comparison: Trial Store {trial_store} vs Control Store {control_store}\")\n",
        "    plt.legend()\n",
        "    plt.xticks(rotation=45)\n",
        "\n",
        "    # Show plot\n",
        "    plt.show()"
      ],
      "metadata": {
        "id": "hco2dIW_uIU-"
      },
      "execution_count": null,
      "outputs": []
    },
    {
      "cell_type": "code",
      "source": [
        "from scipy.stats import ttest_ind\n",
        "\n",
        "# Dictionary to store test results\n",
        "comparison_results = {}\n",
        "\n",
        "for trial_store, control_store in trial_control_pairs.items():\n",
        "    # Filter data\n",
        "    trial_sales = df[df['STORE_NBR'] == trial_store].groupby('DATE')['TOT_SALES'].sum()\n",
        "    control_sales = df[df['STORE_NBR'] == control_store].groupby('DATE')['TOT_SALES'].sum()\n",
        "\n",
        "    # Perform T-test\n",
        "    t_stat, p_value = ttest_ind(trial_sales, control_sales, equal_var=False)\n",
        "\n",
        "    # Store results\n",
        "    comparison_results[trial_store] = {\n",
        "        'Control Store': control_store,\n",
        "        'T-Statistic': t_stat,\n",
        "        'P-Value': p_value\n",
        "    }\n",
        "\n",
        "    # Print results\n",
        "    print(f\"Trial Store {trial_store} vs Control Store {control_store}\")\n",
        "    print(f\"T-Statistic: {t_stat:.4f}, P-Value: {p_value:.4f}\")\n",
        "\n",
        "    # Interpretation\n",
        "    if p_value < 0.05:\n",
        "        print(\" Significant increase in sales (p < 0.05) ✅\")\n",
        "    else:\n",
        "        print(\" No significant increase in sales (p >= 0.05) ❌\")\n",
        "\n",
        "    print(\"-\" * 50)"
      ],
      "metadata": {
        "id": "mXzqZkwUvbB4"
      },
      "execution_count": null,
      "outputs": []
    },
    {
      "cell_type": "code",
      "source": [
        "# Calculate percentage growth in total sales for each trial store\n",
        "sales_growth = {}  # Store growth for each store\n",
        "\n",
        "for trial_store, control_store in trial_control_pairs.items():\n",
        "    pre_trial_sales = df[(df['STORE_NBR'] == trial_store) & (df['DATE'] < '2019-01-01')]['TOT_SALES'].sum()\n",
        "    post_trial_sales = df[(df['STORE_NBR'] == trial_store) & (df['DATE'] >= '2019-01-01')]['TOT_SALES'].sum()\n",
        "\n",
        "    if pre_trial_sales > 0:\n",
        "        sales_growth[trial_store] = ((post_trial_sales - pre_trial_sales) / pre_trial_sales) * 100\n",
        "    else:\n",
        "        sales_growth[trial_store] = \"N/A (No sales before trial)\"\n"
      ],
      "metadata": {
        "id": "VCK3Iha_w4FJ"
      },
      "execution_count": null,
      "outputs": []
    },
    {
      "cell_type": "code",
      "source": [
        "import matplotlib.pyplot as plt\n",
        "\n",
        "plt.figure(figsize=(10, 5))\n",
        "\n",
        "for trial_store, control_store in trial_control_pairs.items():\n",
        "    trial_customers = df[(df['STORE_NBR'] == trial_store) & (df['DATE'] >= '2019-02-01')].groupby('DATE')['LYLTY_CARD_NBR'].nunique()\n",
        "    control_customers = df[(df['STORE_NBR'] == control_store) & (df['DATE'] >= '2019-02-01')].groupby('DATE')['LYLTY_CARD_NBR'].nunique()\n",
        "\n",
        "    plt.plot(trial_customers, label=f\"Trial Store {trial_store}\", linestyle=\"-\", linewidth=2)\n",
        "    plt.plot(control_customers, label=f\"Control Store {control_store}\", linestyle=\"--\", linewidth=2)\n",
        "\n",
        "plt.xlabel(\"Date\")\n",
        "plt.ylabel(\"Unique Customers\")\n",
        "plt.title(\"Customer Growth Trends: Trial vs. Control Stores (Feb-May)\")\n",
        "plt.legend()\n",
        "plt.xticks(rotation=45)\n",
        "plt.show()\n"
      ],
      "metadata": {
        "id": "GsZw9z6rUHbT"
      },
      "execution_count": null,
      "outputs": []
    },
    {
      "cell_type": "code",
      "source": [
        "import matplotlib.pyplot as plt\n",
        "\n",
        "plt.figure(figsize=(10, 5))\n",
        "\n",
        "for trial_store, control_store in trial_control_pairs.items():\n",
        "    # Unique Customers (Customer Growth)\n",
        "    trial_customers = df[(df['STORE_NBR'] == trial_store) & (df['DATE'] >= '2019-02-01')].groupby('DATE')['LYLTY_CARD_NBR'].nunique()\n",
        "    control_customers = df[(df['STORE_NBR'] == control_store) & (df['DATE'] >= '2019-02-01')].groupby('DATE')['LYLTY_CARD_NBR'].nunique()\n",
        "\n",
        "    plt.plot(trial_customers, label=f\"Trial {trial_store} - Customers\", linestyle=\"-\", linewidth=2)\n",
        "    plt.plot(control_customers, label=f\"Control {control_store} - Customers\", linestyle=\"--\", linewidth=2)\n",
        "\n",
        "plt.xlabel(\"Date\")\n",
        "plt.ylabel(\"Unique Customers\")\n",
        "plt.title(\"Customer & Sales Growth: Trial vs. Control Stores (Feb-May)\")\n",
        "plt.legend()\n",
        "plt.xticks(rotation=45)\n",
        "plt.show()\n"
      ],
      "metadata": {
        "id": "tApBYWM2HPQy"
      },
      "execution_count": null,
      "outputs": []
    },
    {
      "cell_type": "code",
      "source": [
        "\n",
        "\n",
        "# Filter data for February to May\n",
        "df = df[(df[\"DATE\"] >= \"2019-02-01\") & (df[\"DATE\"] <= \"2019-05-31\")]\n",
        "\n",
        "# Group by date and store to get customer counts\n",
        "customer_counts = df.groupby([\"DATE\", \"STORE_NBR\"])[\"LYLTY_CARD_NBR\"].nunique().unstack()\n",
        "\n",
        "# Plot the trends\n",
        "plt.figure(figsize=(10, 5))\n",
        "plt.plot(customer_counts.index, customer_counts[77], label=\"Trial 77 - Customers\", color=\"blue\")\n",
        "plt.plot(customer_counts.index, customer_counts[86], label=\"Trial 86 - Customers\", color=\"green\")\n",
        "plt.plot(customer_counts.index, customer_counts[88], label=\"Trial 88 - Customers\", color=\"purple\")\n",
        "\n",
        "# Formatting\n",
        "plt.title(\"Customer Growth in Trial Stores (Feb - May)\")\n",
        "plt.xlabel(\"Date\")\n",
        "plt.ylabel(\"Unique Customers\")\n",
        "plt.legend()\n",
        "plt.xticks(rotation=45)\n",
        "plt.grid(True)\n",
        "\n",
        "# Show plot\n",
        "plt.show()\n"
      ],
      "metadata": {
        "id": "mW3kiPUPJPrA"
      },
      "execution_count": null,
      "outputs": []
    },
    {
      "cell_type": "code",
      "source": [
        "print(\"\\n--- Final Summary ---\")\n",
        "for trial_store, control_store in trial_control_pairs.items():\n",
        "    t_stat = comparison_results[trial_store]['T-Statistic']\n",
        "    p_value = comparison_results[trial_store]['P-Value']\n",
        "\n",
        "    print(f\"🛒 Trial Store {trial_store} vs Control Store {control_store}\")\n",
        "    print(f\"📊 Sales Growth: {sales_growth[trial_store]}%\")  # Now prints correct growth per store\n",
        "    print(f\"📈 T-Statistic: {t_stat:.4f}, P-Value: {p_value:.4f}\")\n",
        "\n",
        "    if p_value < 0.05:\n",
        "        print(\"✅ Significant Increase in Sales\\n\")\n",
        "    else:\n",
        "        print(\"❌ No Significant Increase in Sales\\n\")"
      ],
      "metadata": {
        "id": "_roIsL1vCdd-"
      },
      "execution_count": null,
      "outputs": []
    },
    {
      "cell_type": "markdown",
      "source": [
        "**Insights from the Visualizations**  \n",
        "**Sales Trends Over Time:**   \n",
        "* The sales patterns of trial and control stores were quite similar before the intervention, confirming that the control stores were well-matched.  \n",
        "* After the intervention, some trial stores show noticeable spikes, indicating a potential impact of the changes made.  \n",
        "\n",
        "**Trial Store 77 vs Control Store 50:**   \n",
        "* The sales trends of both stores remain quite close throughout the period.  \n",
        "* No significant increase in sales is observed after the intervention.  \n",
        "**Insight:** The changes made in Trial Store 77 did not have a measurable impact on sales.  \n",
        "\n",
        "**Trial Store 86 vs Control Store 70:**   \n",
        "* The trial store generally shows higher peaks compared to the control store after the intervention.  \n",
        "* The t-test confirms a statistically significant sales increase.  \n",
        "**Insight:** The changes in Trial Store 86 had a positive impact on sales. The company should analyze what worked and consider implementing it in more stores.  \n",
        "\n",
        "**Trial Store 88 vs Control Store 155:**   \n",
        "* The trial store shows a clear upward trend compared to the control store after the intervention.  \n",
        "* The t-test result strongly confirms a significant increase in sales.  \n",
        "**Insight:** The intervention in Trial Store 88 was highly successful. This store experienced the highest impact, suggesting the strategy should be replicated in similar stores.  \n",
        "\n",
        "\n",
        "---\n",
        "\n",
        "\n",
        "\n",
        "**Overall Recommendations**  \n",
        "* Expand the changes applied in Stores 86 and 88 to other locations.\n",
        "* Re-evaluate the strategy used in Store 77, as it did not produce a significant effect.\n",
        "* **Further Analysis:** Identify what specifically worked in Stores 86 and 88 (e.g., promotions, layout changes) and optimize the approach before scaling up."
      ],
      "metadata": {
        "id": "k1qGF08U0URy"
      }
    },
    {
      "cell_type": "markdown",
      "source": [
        "**Business Recommendations**\n",
        "\n",
        "Based on the analysis, the following recommendations are made:\n",
        "\n",
        "* Expand the changes implemented in Stores 86 and 88 to similar stores, as they showed a significant increase in sales.\n",
        "* Investigate Store 77 further, as the trial did not result in a meaningful impact.\n",
        "* Monitor long-term impact in Stores 86 and 88 to ensure sustained growth before a full rollout.\n",
        "* Consider additional factors such as product category performance and regional differences before full implementation.\n",
        "\n",
        "\n",
        "\n"
      ],
      "metadata": {
        "id": "2_Ed1Ad76Tr9"
      }
    },
    {
      "cell_type": "markdown",
      "source": [
        "**Conclusion**\n",
        "\n",
        "The trial successfully improved sales in Stores 86 and 88, while Store 77 did not show a significant effect.  \n",
        "The findings suggest that the changes should be rolled out strategically, focusing on stores similar to 86 and 88 while further analyzing factors influencing Store 77."
      ],
      "metadata": {
        "id": "n3C-8AX7_UX4"
      }
    },
    {
      "cell_type": "markdown",
      "source": [
        "                                                                      THANK YOU"
      ],
      "metadata": {
        "id": "p53TtIuxC6P2"
      }
    }
  ]
}